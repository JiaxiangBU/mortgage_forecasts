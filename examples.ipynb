{
 "cells": [
  {
   "cell_type": "markdown",
   "metadata": {},
   "source": [
    "The examples collected from https://campus.datacamp.com/courses/conda-for-building-distributing-packages/python-packages?ex=10"
   ]
  },
  {
   "cell_type": "code",
   "execution_count": 4,
   "metadata": {},
   "outputs": [],
   "source": [
    "from mortgage_forecasts import read_data, MortgageRateModel"
   ]
  },
  {
   "cell_type": "code",
   "execution_count": 5,
   "metadata": {},
   "outputs": [],
   "source": [
    "df = read_data(\"refs/mortgage_rates.csv\")"
   ]
  },
  {
   "cell_type": "code",
   "execution_count": 6,
   "metadata": {},
   "outputs": [],
   "source": [
    "model = MortgageRateModel(df)"
   ]
  },
  {
   "cell_type": "code",
   "execution_count": 7,
   "metadata": {},
   "outputs": [
    {
     "data": {
      "text/plain": [
       "(4.247193105481545, 2.234771998921369)"
      ]
     },
     "execution_count": 7,
     "metadata": {},
     "output_type": "execute_result"
    }
   ],
   "source": [
    "model.forecast('January 2019')"
   ]
  },
  {
   "cell_type": "code",
   "execution_count": 8,
   "metadata": {},
   "outputs": [
    {
     "name": "stdout",
     "output_type": "stream",
     "text": [
      "Help on class MortgageRateModel in module mortgage_forecasts.models:\n",
      "\n",
      "class MortgageRateModel(builtins.object)\n",
      " |  MortgageRateModel(mortgage_rates)\n",
      " |  \n",
      " |  A 12-order autoregressive model to predict mortgage rates.\n",
      " |  \n",
      " |  Paramters\n",
      " |  ---------\n",
      " |  mortgage_rates: Pandas Series with DateTimeIndex\n",
      " |    The monthly mortgage rate to fit\n",
      " |    a 12-order autoregressive model.\n",
      " |  \n",
      " |  Methods defined here:\n",
      " |  \n",
      " |  __init__(self, mortgage_rates)\n",
      " |      Initialize and fit the model.\n",
      " |  \n",
      " |  fit(self, *args, **kwargs)\n",
      " |      Fit the model\n",
      " |      \n",
      " |      Parameters\n",
      " |      ----------\n",
      " |      All parameters are passed to the statsmodels\n",
      " |      SARIMAX fit() member method.\n",
      " |      If disp is not passed it is set to False.\n",
      " |  \n",
      " |  forecast(self, month, confint=0.95)\n",
      " |      Forecast the 30-year mortgage rate over the given month.\n",
      " |      \n",
      " |      Parmaters\n",
      " |      ---------\n",
      " |      month: str\n",
      " |             Parsible month-year to forecast\n",
      " |      confint: float (<= 1)\n",
      " |               Confidence interval to compute\n",
      " |               margin of error\n",
      " |      \n",
      " |      Returns\n",
      " |      -------\n",
      " |      rate  : The forecasted mortgage rate\n",
      " |      margin: The margin of error\n",
      " |  \n",
      " |  ----------------------------------------------------------------------\n",
      " |  Data descriptors defined here:\n",
      " |  \n",
      " |  __dict__\n",
      " |      dictionary for instance variables (if defined)\n",
      " |  \n",
      " |  __weakref__\n",
      " |      list of weak references to the object (if defined)\n",
      "\n"
     ]
    }
   ],
   "source": [
    "help(MortgageRateModel)"
   ]
  }
 ],
 "metadata": {
  "kernelspec": {
   "display_name": "Python 3",
   "language": "python",
   "name": "python3"
  },
  "language_info": {
   "codemirror_mode": {
    "name": "ipython",
    "version": 3
   },
   "file_extension": ".py",
   "mimetype": "text/x-python",
   "name": "python",
   "nbconvert_exporter": "python",
   "pygments_lexer": "ipython3",
   "version": "3.7.1"
  }
 },
 "nbformat": 4,
 "nbformat_minor": 2
}
